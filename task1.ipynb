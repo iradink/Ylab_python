{
 "cells": [
  {
   "cell_type": "code",
   "execution_count": 50,
   "id": "e2c3cfde",
   "metadata": {},
   "outputs": [
    {
     "name": "stdout",
     "output_type": "stream",
     "text": [
      "(0, 2) -> (2, 5)[3.605551275463989] -> (6, 6)[7.728656901081649] -> (8, 3)[11.334208176545639] -> (5, 2)[14.496485836714019] -> (0, 2)[19.49648583671402] = 19.49648583671402\n"
     ]
    }
   ],
   "source": [
    "from itertools import permutations\n",
    "\n",
    "point_1 = (0, 2)\n",
    "point_2 = (2, 5)\n",
    "point_3 = (5, 2)\n",
    "point_4 = (6, 6)\n",
    "point_5 = (8, 3)\n",
    "\n",
    "points = [point_2, point_3, point_4, point_5]\n",
    "min_way = []\n",
    "min_distances = []\n",
    "\n",
    "ways = permutations(points, 4)\n",
    "\n",
    "for way in list(ways):\n",
    "    \n",
    "    distances = []\n",
    "    \n",
    "    distance = ((way[0][0] - point_1[0]) ** 2 + (way[0][1] - point_1[1]) ** 2) ** 0.5\n",
    "    distances.append(distance)\n",
    "\n",
    "    for i in range(3):\n",
    "            distance += ((way[i+1][0] - way[i][0]) ** 2 + (way[i+1][1] - way[i][1]) ** 2) ** 0.5\n",
    "            distances.append(distance)\n",
    "\n",
    "    distance += ((point_1[0] - way[3][0]) ** 2 + (point_1[1] - way[3][1]) ** 2) ** 0.5\n",
    "    distances.append(distance)\n",
    "    \n",
    "    if len(min_way) == 0:\n",
    "        min_way = way\n",
    "        min_distances = distances\n",
    "        continue\n",
    "    \n",
    "    if (min_distances[4] > distances[4]):\n",
    "        min_way = way\n",
    "        min_distances = distances\n",
    "\n",
    "print(f\"{point_1} -> {min_way[0]}[{min_distances[0]}] -> \" \n",
    "    f\"{min_way[1]}[{min_distances[1]}] ->\"\n",
    "    f\" {min_way[2]}[{min_distances[2]}] ->\"\n",
    "    f\" {min_way[3]}[{min_distances[3]}] ->\"\n",
    "    f\" {point_1}[{min_distances[4]}] = {min_distances[4]}\")"
   ]
  },
  {
   "cell_type": "code",
   "execution_count": null,
   "id": "26594c3d",
   "metadata": {},
   "outputs": [],
   "source": []
  }
 ],
 "metadata": {
  "kernelspec": {
   "display_name": "Python 3",
   "language": "python",
   "name": "python3"
  },
  "language_info": {
   "codemirror_mode": {
    "name": "ipython",
    "version": 3
   },
   "file_extension": ".py",
   "mimetype": "text/x-python",
   "name": "python",
   "nbconvert_exporter": "python",
   "pygments_lexer": "ipython3",
   "version": "3.9.5"
  }
 },
 "nbformat": 4,
 "nbformat_minor": 5
}
